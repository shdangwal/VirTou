{
 "cells": [
  {
   "cell_type": "code",
   "execution_count": 1,
   "metadata": {
    "ExecuteTime": {
     "end_time": "2020-07-31T13:22:45.925151Z",
     "start_time": "2020-07-31T13:22:45.921151Z"
    }
   },
   "outputs": [],
   "source": [
    "sites = [\n",
    "    'www.holidify.com', # done\n",
    "    'www.thrillophilia.com/places-to-visit-in-xxx', # done\n",
    "    'www.trawell.in', # done\n",
    "    'www.tripadvisor.in', # cannot use\n",
    "    'www.makemytrip.com', # cannot use\n",
    "    'www.traveltriangle.com' # cannot use - packages not specific locations\n",
    "]"
   ]
  },
  {
   "cell_type": "code",
   "execution_count": 1,
   "metadata": {
    "ExecuteTime": {
     "end_time": "2020-08-01T08:00:15.325364Z",
     "start_time": "2020-08-01T08:00:13.942643Z"
    }
   },
   "outputs": [],
   "source": [
    "from selenium import webdriver\n",
    "from selenium.webdriver.common.keys import Keys\n",
    "from bs4 import BeautifulSoup\n",
    "import pandas as pd\n",
    "from webdriver_manager.chrome import ChromeDriverManager\n",
    "import time"
   ]
  },
  {
   "cell_type": "markdown",
   "metadata": {},
   "source": [
    "## Holidify"
   ]
  },
  {
   "cell_type": "markdown",
   "metadata": {},
   "source": [
    "Found 100 cities out of which the following are ignored as these are national parks and places not exactly cities:\n",
    "<b>['Gir-National-Park', 'jim-corbett-national-park', 'jog falls', 'kanha national park', 'kaziranga national park']</b>\n",
    "\n",
    "The rest of the cities data can be found in `../data/holidify`. The list of cities can be found in `../data/holidify/1. cities.csv`."
   ]
  },
  {
   "cell_type": "code",
   "execution_count": 114,
   "metadata": {
    "ExecuteTime": {
     "end_time": "2020-08-01T04:53:24.382458Z",
     "start_time": "2020-08-01T04:53:10.915173Z"
    },
    "collapsed": true
   },
   "outputs": [
    {
     "name": "stderr",
     "output_type": "stream",
     "text": [
      "[WDM] - Current google-chrome version is 84.0.4147\n",
      "[WDM] - Get LATEST driver version for 84.0.4147\n",
      "[WDM] - Driver [C:\\Users\\l\\.wdm\\drivers\\chromedriver\\win32\\84.0.4147.30\\chromedriver.exe] found in cache\n"
     ]
    },
    {
     "name": "stdout",
     "output_type": "stream",
     "text": [
      " \n"
     ]
    },
    {
     "ename": "KeyboardInterrupt",
     "evalue": "",
     "output_type": "error",
     "traceback": [
      "\u001b[1;31m---------------------------------------------------------------------------\u001b[0m",
      "\u001b[1;31mTypeError\u001b[0m                                 Traceback (most recent call last)",
      "\u001b[1;32mC:\\ProgramData\\Anaconda3\\lib\\site-packages\\urllib3\\connectionpool.py\u001b[0m in \u001b[0;36m_make_request\u001b[1;34m(self, conn, method, url, timeout, chunked, **httplib_request_kw)\u001b[0m\n\u001b[0;32m    376\u001b[0m             \u001b[1;32mtry\u001b[0m\u001b[1;33m:\u001b[0m  \u001b[1;31m# Python 2.7, use buffering of HTTP responses\u001b[0m\u001b[1;33m\u001b[0m\u001b[1;33m\u001b[0m\u001b[0m\n\u001b[1;32m--> 377\u001b[1;33m                 \u001b[0mhttplib_response\u001b[0m \u001b[1;33m=\u001b[0m \u001b[0mconn\u001b[0m\u001b[1;33m.\u001b[0m\u001b[0mgetresponse\u001b[0m\u001b[1;33m(\u001b[0m\u001b[0mbuffering\u001b[0m\u001b[1;33m=\u001b[0m\u001b[1;32mTrue\u001b[0m\u001b[1;33m)\u001b[0m\u001b[1;33m\u001b[0m\u001b[1;33m\u001b[0m\u001b[0m\n\u001b[0m\u001b[0;32m    378\u001b[0m             \u001b[1;32mexcept\u001b[0m \u001b[0mTypeError\u001b[0m\u001b[1;33m:\u001b[0m  \u001b[1;31m# Python 3\u001b[0m\u001b[1;33m\u001b[0m\u001b[1;33m\u001b[0m\u001b[0m\n",
      "\u001b[1;31mTypeError\u001b[0m: getresponse() got an unexpected keyword argument 'buffering'",
      "\nDuring handling of the above exception, another exception occurred:\n",
      "\u001b[1;31mKeyboardInterrupt\u001b[0m                         Traceback (most recent call last)",
      "\u001b[1;32m<ipython-input-114-aec43fe93861>\u001b[0m in \u001b[0;36m<module>\u001b[1;34m\u001b[0m\n\u001b[0;32m      1\u001b[0m \u001b[1;31m## Scrape city data from 'https://www.holidify.com/country/india/places-to-visit.html?pageNum=0'\u001b[0m\u001b[1;33m\u001b[0m\u001b[1;33m\u001b[0m\u001b[1;33m\u001b[0m\u001b[0m\n\u001b[0;32m      2\u001b[0m \u001b[1;33m\u001b[0m\u001b[0m\n\u001b[1;32m----> 3\u001b[1;33m \u001b[0mdriver\u001b[0m \u001b[1;33m=\u001b[0m \u001b[0mwebdriver\u001b[0m\u001b[1;33m.\u001b[0m\u001b[0mChrome\u001b[0m\u001b[1;33m(\u001b[0m\u001b[0mChromeDriverManager\u001b[0m\u001b[1;33m(\u001b[0m\u001b[1;33m)\u001b[0m\u001b[1;33m.\u001b[0m\u001b[0minstall\u001b[0m\u001b[1;33m(\u001b[0m\u001b[1;33m)\u001b[0m\u001b[1;33m)\u001b[0m\u001b[1;33m\u001b[0m\u001b[1;33m\u001b[0m\u001b[0m\n\u001b[0m\u001b[0;32m      4\u001b[0m \u001b[0mdriver\u001b[0m\u001b[1;33m.\u001b[0m\u001b[0mget\u001b[0m\u001b[1;33m(\u001b[0m\u001b[1;34m'https://www.holidify.com/country/india/places-to-visit.html?pageNum=0'\u001b[0m\u001b[1;33m)\u001b[0m\u001b[1;33m\u001b[0m\u001b[1;33m\u001b[0m\u001b[0m\n\u001b[0;32m      5\u001b[0m \u001b[0mcontent\u001b[0m \u001b[1;33m=\u001b[0m \u001b[0mdriver\u001b[0m\u001b[1;33m.\u001b[0m\u001b[0mpage_source\u001b[0m\u001b[1;33m\u001b[0m\u001b[1;33m\u001b[0m\u001b[0m\n",
      "\u001b[1;32mC:\\ProgramData\\Anaconda3\\lib\\site-packages\\selenium\\webdriver\\chrome\\webdriver.py\u001b[0m in \u001b[0;36m__init__\u001b[1;34m(self, executable_path, port, options, service_args, desired_capabilities, service_log_path, chrome_options, keep_alive)\u001b[0m\n\u001b[0;32m     79\u001b[0m                     \u001b[0mremote_server_addr\u001b[0m\u001b[1;33m=\u001b[0m\u001b[0mself\u001b[0m\u001b[1;33m.\u001b[0m\u001b[0mservice\u001b[0m\u001b[1;33m.\u001b[0m\u001b[0mservice_url\u001b[0m\u001b[1;33m,\u001b[0m\u001b[1;33m\u001b[0m\u001b[1;33m\u001b[0m\u001b[0m\n\u001b[0;32m     80\u001b[0m                     keep_alive=keep_alive),\n\u001b[1;32m---> 81\u001b[1;33m                 desired_capabilities=desired_capabilities)\n\u001b[0m\u001b[0;32m     82\u001b[0m         \u001b[1;32mexcept\u001b[0m \u001b[0mException\u001b[0m\u001b[1;33m:\u001b[0m\u001b[1;33m\u001b[0m\u001b[1;33m\u001b[0m\u001b[0m\n\u001b[0;32m     83\u001b[0m             \u001b[0mself\u001b[0m\u001b[1;33m.\u001b[0m\u001b[0mquit\u001b[0m\u001b[1;33m(\u001b[0m\u001b[1;33m)\u001b[0m\u001b[1;33m\u001b[0m\u001b[1;33m\u001b[0m\u001b[0m\n",
      "\u001b[1;32mC:\\ProgramData\\Anaconda3\\lib\\site-packages\\selenium\\webdriver\\remote\\webdriver.py\u001b[0m in \u001b[0;36m__init__\u001b[1;34m(self, command_executor, desired_capabilities, browser_profile, proxy, keep_alive, file_detector, options)\u001b[0m\n\u001b[0;32m    155\u001b[0m             warnings.warn(\"Please use FirefoxOptions to set browser profile\",\n\u001b[0;32m    156\u001b[0m                           DeprecationWarning, stacklevel=2)\n\u001b[1;32m--> 157\u001b[1;33m         \u001b[0mself\u001b[0m\u001b[1;33m.\u001b[0m\u001b[0mstart_session\u001b[0m\u001b[1;33m(\u001b[0m\u001b[0mcapabilities\u001b[0m\u001b[1;33m,\u001b[0m \u001b[0mbrowser_profile\u001b[0m\u001b[1;33m)\u001b[0m\u001b[1;33m\u001b[0m\u001b[1;33m\u001b[0m\u001b[0m\n\u001b[0m\u001b[0;32m    158\u001b[0m         \u001b[0mself\u001b[0m\u001b[1;33m.\u001b[0m\u001b[0m_switch_to\u001b[0m \u001b[1;33m=\u001b[0m \u001b[0mSwitchTo\u001b[0m\u001b[1;33m(\u001b[0m\u001b[0mself\u001b[0m\u001b[1;33m)\u001b[0m\u001b[1;33m\u001b[0m\u001b[1;33m\u001b[0m\u001b[0m\n\u001b[0;32m    159\u001b[0m         \u001b[0mself\u001b[0m\u001b[1;33m.\u001b[0m\u001b[0m_mobile\u001b[0m \u001b[1;33m=\u001b[0m \u001b[0mMobile\u001b[0m\u001b[1;33m(\u001b[0m\u001b[0mself\u001b[0m\u001b[1;33m)\u001b[0m\u001b[1;33m\u001b[0m\u001b[1;33m\u001b[0m\u001b[0m\n",
      "\u001b[1;32mC:\\ProgramData\\Anaconda3\\lib\\site-packages\\selenium\\webdriver\\remote\\webdriver.py\u001b[0m in \u001b[0;36mstart_session\u001b[1;34m(self, capabilities, browser_profile)\u001b[0m\n\u001b[0;32m    250\u001b[0m         parameters = {\"capabilities\": w3c_caps,\n\u001b[0;32m    251\u001b[0m                       \"desiredCapabilities\": capabilities}\n\u001b[1;32m--> 252\u001b[1;33m         \u001b[0mresponse\u001b[0m \u001b[1;33m=\u001b[0m \u001b[0mself\u001b[0m\u001b[1;33m.\u001b[0m\u001b[0mexecute\u001b[0m\u001b[1;33m(\u001b[0m\u001b[0mCommand\u001b[0m\u001b[1;33m.\u001b[0m\u001b[0mNEW_SESSION\u001b[0m\u001b[1;33m,\u001b[0m \u001b[0mparameters\u001b[0m\u001b[1;33m)\u001b[0m\u001b[1;33m\u001b[0m\u001b[1;33m\u001b[0m\u001b[0m\n\u001b[0m\u001b[0;32m    253\u001b[0m         \u001b[1;32mif\u001b[0m \u001b[1;34m'sessionId'\u001b[0m \u001b[1;32mnot\u001b[0m \u001b[1;32min\u001b[0m \u001b[0mresponse\u001b[0m\u001b[1;33m:\u001b[0m\u001b[1;33m\u001b[0m\u001b[1;33m\u001b[0m\u001b[0m\n\u001b[0;32m    254\u001b[0m             \u001b[0mresponse\u001b[0m \u001b[1;33m=\u001b[0m \u001b[0mresponse\u001b[0m\u001b[1;33m[\u001b[0m\u001b[1;34m'value'\u001b[0m\u001b[1;33m]\u001b[0m\u001b[1;33m\u001b[0m\u001b[1;33m\u001b[0m\u001b[0m\n",
      "\u001b[1;32mC:\\ProgramData\\Anaconda3\\lib\\site-packages\\selenium\\webdriver\\remote\\webdriver.py\u001b[0m in \u001b[0;36mexecute\u001b[1;34m(self, driver_command, params)\u001b[0m\n\u001b[0;32m    317\u001b[0m \u001b[1;33m\u001b[0m\u001b[0m\n\u001b[0;32m    318\u001b[0m         \u001b[0mparams\u001b[0m \u001b[1;33m=\u001b[0m \u001b[0mself\u001b[0m\u001b[1;33m.\u001b[0m\u001b[0m_wrap_value\u001b[0m\u001b[1;33m(\u001b[0m\u001b[0mparams\u001b[0m\u001b[1;33m)\u001b[0m\u001b[1;33m\u001b[0m\u001b[1;33m\u001b[0m\u001b[0m\n\u001b[1;32m--> 319\u001b[1;33m         \u001b[0mresponse\u001b[0m \u001b[1;33m=\u001b[0m \u001b[0mself\u001b[0m\u001b[1;33m.\u001b[0m\u001b[0mcommand_executor\u001b[0m\u001b[1;33m.\u001b[0m\u001b[0mexecute\u001b[0m\u001b[1;33m(\u001b[0m\u001b[0mdriver_command\u001b[0m\u001b[1;33m,\u001b[0m \u001b[0mparams\u001b[0m\u001b[1;33m)\u001b[0m\u001b[1;33m\u001b[0m\u001b[1;33m\u001b[0m\u001b[0m\n\u001b[0m\u001b[0;32m    320\u001b[0m         \u001b[1;32mif\u001b[0m \u001b[0mresponse\u001b[0m\u001b[1;33m:\u001b[0m\u001b[1;33m\u001b[0m\u001b[1;33m\u001b[0m\u001b[0m\n\u001b[0;32m    321\u001b[0m             \u001b[0mself\u001b[0m\u001b[1;33m.\u001b[0m\u001b[0merror_handler\u001b[0m\u001b[1;33m.\u001b[0m\u001b[0mcheck_response\u001b[0m\u001b[1;33m(\u001b[0m\u001b[0mresponse\u001b[0m\u001b[1;33m)\u001b[0m\u001b[1;33m\u001b[0m\u001b[1;33m\u001b[0m\u001b[0m\n",
      "\u001b[1;32mC:\\ProgramData\\Anaconda3\\lib\\site-packages\\selenium\\webdriver\\remote\\remote_connection.py\u001b[0m in \u001b[0;36mexecute\u001b[1;34m(self, command, params)\u001b[0m\n\u001b[0;32m    372\u001b[0m         \u001b[0mdata\u001b[0m \u001b[1;33m=\u001b[0m \u001b[0mutils\u001b[0m\u001b[1;33m.\u001b[0m\u001b[0mdump_json\u001b[0m\u001b[1;33m(\u001b[0m\u001b[0mparams\u001b[0m\u001b[1;33m)\u001b[0m\u001b[1;33m\u001b[0m\u001b[1;33m\u001b[0m\u001b[0m\n\u001b[0;32m    373\u001b[0m         \u001b[0murl\u001b[0m \u001b[1;33m=\u001b[0m \u001b[1;34m'%s%s'\u001b[0m \u001b[1;33m%\u001b[0m \u001b[1;33m(\u001b[0m\u001b[0mself\u001b[0m\u001b[1;33m.\u001b[0m\u001b[0m_url\u001b[0m\u001b[1;33m,\u001b[0m \u001b[0mpath\u001b[0m\u001b[1;33m)\u001b[0m\u001b[1;33m\u001b[0m\u001b[1;33m\u001b[0m\u001b[0m\n\u001b[1;32m--> 374\u001b[1;33m         \u001b[1;32mreturn\u001b[0m \u001b[0mself\u001b[0m\u001b[1;33m.\u001b[0m\u001b[0m_request\u001b[0m\u001b[1;33m(\u001b[0m\u001b[0mcommand_info\u001b[0m\u001b[1;33m[\u001b[0m\u001b[1;36m0\u001b[0m\u001b[1;33m]\u001b[0m\u001b[1;33m,\u001b[0m \u001b[0murl\u001b[0m\u001b[1;33m,\u001b[0m \u001b[0mbody\u001b[0m\u001b[1;33m=\u001b[0m\u001b[0mdata\u001b[0m\u001b[1;33m)\u001b[0m\u001b[1;33m\u001b[0m\u001b[1;33m\u001b[0m\u001b[0m\n\u001b[0m\u001b[0;32m    375\u001b[0m \u001b[1;33m\u001b[0m\u001b[0m\n\u001b[0;32m    376\u001b[0m     \u001b[1;32mdef\u001b[0m \u001b[0m_request\u001b[0m\u001b[1;33m(\u001b[0m\u001b[0mself\u001b[0m\u001b[1;33m,\u001b[0m \u001b[0mmethod\u001b[0m\u001b[1;33m,\u001b[0m \u001b[0murl\u001b[0m\u001b[1;33m,\u001b[0m \u001b[0mbody\u001b[0m\u001b[1;33m=\u001b[0m\u001b[1;32mNone\u001b[0m\u001b[1;33m)\u001b[0m\u001b[1;33m:\u001b[0m\u001b[1;33m\u001b[0m\u001b[1;33m\u001b[0m\u001b[0m\n",
      "\u001b[1;32mC:\\ProgramData\\Anaconda3\\lib\\site-packages\\selenium\\webdriver\\remote\\remote_connection.py\u001b[0m in \u001b[0;36m_request\u001b[1;34m(self, method, url, body)\u001b[0m\n\u001b[0;32m    395\u001b[0m \u001b[1;33m\u001b[0m\u001b[0m\n\u001b[0;32m    396\u001b[0m         \u001b[1;32mif\u001b[0m \u001b[0mself\u001b[0m\u001b[1;33m.\u001b[0m\u001b[0mkeep_alive\u001b[0m\u001b[1;33m:\u001b[0m\u001b[1;33m\u001b[0m\u001b[1;33m\u001b[0m\u001b[0m\n\u001b[1;32m--> 397\u001b[1;33m             \u001b[0mresp\u001b[0m \u001b[1;33m=\u001b[0m \u001b[0mself\u001b[0m\u001b[1;33m.\u001b[0m\u001b[0m_conn\u001b[0m\u001b[1;33m.\u001b[0m\u001b[0mrequest\u001b[0m\u001b[1;33m(\u001b[0m\u001b[0mmethod\u001b[0m\u001b[1;33m,\u001b[0m \u001b[0murl\u001b[0m\u001b[1;33m,\u001b[0m \u001b[0mbody\u001b[0m\u001b[1;33m=\u001b[0m\u001b[0mbody\u001b[0m\u001b[1;33m,\u001b[0m \u001b[0mheaders\u001b[0m\u001b[1;33m=\u001b[0m\u001b[0mheaders\u001b[0m\u001b[1;33m)\u001b[0m\u001b[1;33m\u001b[0m\u001b[1;33m\u001b[0m\u001b[0m\n\u001b[0m\u001b[0;32m    398\u001b[0m \u001b[1;33m\u001b[0m\u001b[0m\n\u001b[0;32m    399\u001b[0m             \u001b[0mstatuscode\u001b[0m \u001b[1;33m=\u001b[0m \u001b[0mresp\u001b[0m\u001b[1;33m.\u001b[0m\u001b[0mstatus\u001b[0m\u001b[1;33m\u001b[0m\u001b[1;33m\u001b[0m\u001b[0m\n",
      "\u001b[1;32mC:\\ProgramData\\Anaconda3\\lib\\site-packages\\urllib3\\request.py\u001b[0m in \u001b[0;36mrequest\u001b[1;34m(self, method, url, fields, headers, **urlopen_kw)\u001b[0m\n\u001b[0;32m     70\u001b[0m             return self.request_encode_body(method, url, fields=fields,\n\u001b[0;32m     71\u001b[0m                                             \u001b[0mheaders\u001b[0m\u001b[1;33m=\u001b[0m\u001b[0mheaders\u001b[0m\u001b[1;33m,\u001b[0m\u001b[1;33m\u001b[0m\u001b[1;33m\u001b[0m\u001b[0m\n\u001b[1;32m---> 72\u001b[1;33m                                             **urlopen_kw)\n\u001b[0m\u001b[0;32m     73\u001b[0m \u001b[1;33m\u001b[0m\u001b[0m\n\u001b[0;32m     74\u001b[0m     def request_encode_url(self, method, url, fields=None, headers=None,\n",
      "\u001b[1;32mC:\\ProgramData\\Anaconda3\\lib\\site-packages\\urllib3\\request.py\u001b[0m in \u001b[0;36mrequest_encode_body\u001b[1;34m(self, method, url, fields, headers, encode_multipart, multipart_boundary, **urlopen_kw)\u001b[0m\n\u001b[0;32m    148\u001b[0m         \u001b[0mextra_kw\u001b[0m\u001b[1;33m.\u001b[0m\u001b[0mupdate\u001b[0m\u001b[1;33m(\u001b[0m\u001b[0murlopen_kw\u001b[0m\u001b[1;33m)\u001b[0m\u001b[1;33m\u001b[0m\u001b[1;33m\u001b[0m\u001b[0m\n\u001b[0;32m    149\u001b[0m \u001b[1;33m\u001b[0m\u001b[0m\n\u001b[1;32m--> 150\u001b[1;33m         \u001b[1;32mreturn\u001b[0m \u001b[0mself\u001b[0m\u001b[1;33m.\u001b[0m\u001b[0murlopen\u001b[0m\u001b[1;33m(\u001b[0m\u001b[0mmethod\u001b[0m\u001b[1;33m,\u001b[0m \u001b[0murl\u001b[0m\u001b[1;33m,\u001b[0m \u001b[1;33m**\u001b[0m\u001b[0mextra_kw\u001b[0m\u001b[1;33m)\u001b[0m\u001b[1;33m\u001b[0m\u001b[1;33m\u001b[0m\u001b[0m\n\u001b[0m",
      "\u001b[1;32mC:\\ProgramData\\Anaconda3\\lib\\site-packages\\urllib3\\poolmanager.py\u001b[0m in \u001b[0;36murlopen\u001b[1;34m(self, method, url, redirect, **kw)\u001b[0m\n\u001b[0;32m    322\u001b[0m             \u001b[0mresponse\u001b[0m \u001b[1;33m=\u001b[0m \u001b[0mconn\u001b[0m\u001b[1;33m.\u001b[0m\u001b[0murlopen\u001b[0m\u001b[1;33m(\u001b[0m\u001b[0mmethod\u001b[0m\u001b[1;33m,\u001b[0m \u001b[0murl\u001b[0m\u001b[1;33m,\u001b[0m \u001b[1;33m**\u001b[0m\u001b[0mkw\u001b[0m\u001b[1;33m)\u001b[0m\u001b[1;33m\u001b[0m\u001b[1;33m\u001b[0m\u001b[0m\n\u001b[0;32m    323\u001b[0m         \u001b[1;32melse\u001b[0m\u001b[1;33m:\u001b[0m\u001b[1;33m\u001b[0m\u001b[1;33m\u001b[0m\u001b[0m\n\u001b[1;32m--> 324\u001b[1;33m             \u001b[0mresponse\u001b[0m \u001b[1;33m=\u001b[0m \u001b[0mconn\u001b[0m\u001b[1;33m.\u001b[0m\u001b[0murlopen\u001b[0m\u001b[1;33m(\u001b[0m\u001b[0mmethod\u001b[0m\u001b[1;33m,\u001b[0m \u001b[0mu\u001b[0m\u001b[1;33m.\u001b[0m\u001b[0mrequest_uri\u001b[0m\u001b[1;33m,\u001b[0m \u001b[1;33m**\u001b[0m\u001b[0mkw\u001b[0m\u001b[1;33m)\u001b[0m\u001b[1;33m\u001b[0m\u001b[1;33m\u001b[0m\u001b[0m\n\u001b[0m\u001b[0;32m    325\u001b[0m \u001b[1;33m\u001b[0m\u001b[0m\n\u001b[0;32m    326\u001b[0m         \u001b[0mredirect_location\u001b[0m \u001b[1;33m=\u001b[0m \u001b[0mredirect\u001b[0m \u001b[1;32mand\u001b[0m \u001b[0mresponse\u001b[0m\u001b[1;33m.\u001b[0m\u001b[0mget_redirect_location\u001b[0m\u001b[1;33m(\u001b[0m\u001b[1;33m)\u001b[0m\u001b[1;33m\u001b[0m\u001b[1;33m\u001b[0m\u001b[0m\n",
      "\u001b[1;32mC:\\ProgramData\\Anaconda3\\lib\\site-packages\\urllib3\\connectionpool.py\u001b[0m in \u001b[0;36murlopen\u001b[1;34m(self, method, url, body, headers, retries, redirect, assert_same_host, timeout, pool_timeout, release_conn, chunked, body_pos, **response_kw)\u001b[0m\n\u001b[0;32m    598\u001b[0m                                                   \u001b[0mtimeout\u001b[0m\u001b[1;33m=\u001b[0m\u001b[0mtimeout_obj\u001b[0m\u001b[1;33m,\u001b[0m\u001b[1;33m\u001b[0m\u001b[1;33m\u001b[0m\u001b[0m\n\u001b[0;32m    599\u001b[0m                                                   \u001b[0mbody\u001b[0m\u001b[1;33m=\u001b[0m\u001b[0mbody\u001b[0m\u001b[1;33m,\u001b[0m \u001b[0mheaders\u001b[0m\u001b[1;33m=\u001b[0m\u001b[0mheaders\u001b[0m\u001b[1;33m,\u001b[0m\u001b[1;33m\u001b[0m\u001b[1;33m\u001b[0m\u001b[0m\n\u001b[1;32m--> 600\u001b[1;33m                                                   chunked=chunked)\n\u001b[0m\u001b[0;32m    601\u001b[0m \u001b[1;33m\u001b[0m\u001b[0m\n\u001b[0;32m    602\u001b[0m             \u001b[1;31m# If we're going to release the connection in ``finally:``, then\u001b[0m\u001b[1;33m\u001b[0m\u001b[1;33m\u001b[0m\u001b[1;33m\u001b[0m\u001b[0m\n",
      "\u001b[1;32mC:\\ProgramData\\Anaconda3\\lib\\site-packages\\urllib3\\connectionpool.py\u001b[0m in \u001b[0;36m_make_request\u001b[1;34m(self, conn, method, url, timeout, chunked, **httplib_request_kw)\u001b[0m\n\u001b[0;32m    378\u001b[0m             \u001b[1;32mexcept\u001b[0m \u001b[0mTypeError\u001b[0m\u001b[1;33m:\u001b[0m  \u001b[1;31m# Python 3\u001b[0m\u001b[1;33m\u001b[0m\u001b[1;33m\u001b[0m\u001b[0m\n\u001b[0;32m    379\u001b[0m                 \u001b[1;32mtry\u001b[0m\u001b[1;33m:\u001b[0m\u001b[1;33m\u001b[0m\u001b[1;33m\u001b[0m\u001b[0m\n\u001b[1;32m--> 380\u001b[1;33m                     \u001b[0mhttplib_response\u001b[0m \u001b[1;33m=\u001b[0m \u001b[0mconn\u001b[0m\u001b[1;33m.\u001b[0m\u001b[0mgetresponse\u001b[0m\u001b[1;33m(\u001b[0m\u001b[1;33m)\u001b[0m\u001b[1;33m\u001b[0m\u001b[1;33m\u001b[0m\u001b[0m\n\u001b[0m\u001b[0;32m    381\u001b[0m                 \u001b[1;32mexcept\u001b[0m \u001b[0mException\u001b[0m \u001b[1;32mas\u001b[0m \u001b[0me\u001b[0m\u001b[1;33m:\u001b[0m\u001b[1;33m\u001b[0m\u001b[1;33m\u001b[0m\u001b[0m\n\u001b[0;32m    382\u001b[0m                     \u001b[1;31m# Remove the TypeError from the exception chain in Python 3;\u001b[0m\u001b[1;33m\u001b[0m\u001b[1;33m\u001b[0m\u001b[1;33m\u001b[0m\u001b[0m\n",
      "\u001b[1;32mC:\\ProgramData\\Anaconda3\\lib\\http\\client.py\u001b[0m in \u001b[0;36mgetresponse\u001b[1;34m(self)\u001b[0m\n\u001b[0;32m   1342\u001b[0m         \u001b[1;32mtry\u001b[0m\u001b[1;33m:\u001b[0m\u001b[1;33m\u001b[0m\u001b[1;33m\u001b[0m\u001b[0m\n\u001b[0;32m   1343\u001b[0m             \u001b[1;32mtry\u001b[0m\u001b[1;33m:\u001b[0m\u001b[1;33m\u001b[0m\u001b[1;33m\u001b[0m\u001b[0m\n\u001b[1;32m-> 1344\u001b[1;33m                 \u001b[0mresponse\u001b[0m\u001b[1;33m.\u001b[0m\u001b[0mbegin\u001b[0m\u001b[1;33m(\u001b[0m\u001b[1;33m)\u001b[0m\u001b[1;33m\u001b[0m\u001b[1;33m\u001b[0m\u001b[0m\n\u001b[0m\u001b[0;32m   1345\u001b[0m             \u001b[1;32mexcept\u001b[0m \u001b[0mConnectionError\u001b[0m\u001b[1;33m:\u001b[0m\u001b[1;33m\u001b[0m\u001b[1;33m\u001b[0m\u001b[0m\n\u001b[0;32m   1346\u001b[0m                 \u001b[0mself\u001b[0m\u001b[1;33m.\u001b[0m\u001b[0mclose\u001b[0m\u001b[1;33m(\u001b[0m\u001b[1;33m)\u001b[0m\u001b[1;33m\u001b[0m\u001b[1;33m\u001b[0m\u001b[0m\n",
      "\u001b[1;32mC:\\ProgramData\\Anaconda3\\lib\\http\\client.py\u001b[0m in \u001b[0;36mbegin\u001b[1;34m(self)\u001b[0m\n\u001b[0;32m    304\u001b[0m         \u001b[1;31m# read until we get a non-100 response\u001b[0m\u001b[1;33m\u001b[0m\u001b[1;33m\u001b[0m\u001b[1;33m\u001b[0m\u001b[0m\n\u001b[0;32m    305\u001b[0m         \u001b[1;32mwhile\u001b[0m \u001b[1;32mTrue\u001b[0m\u001b[1;33m:\u001b[0m\u001b[1;33m\u001b[0m\u001b[1;33m\u001b[0m\u001b[0m\n\u001b[1;32m--> 306\u001b[1;33m             \u001b[0mversion\u001b[0m\u001b[1;33m,\u001b[0m \u001b[0mstatus\u001b[0m\u001b[1;33m,\u001b[0m \u001b[0mreason\u001b[0m \u001b[1;33m=\u001b[0m \u001b[0mself\u001b[0m\u001b[1;33m.\u001b[0m\u001b[0m_read_status\u001b[0m\u001b[1;33m(\u001b[0m\u001b[1;33m)\u001b[0m\u001b[1;33m\u001b[0m\u001b[1;33m\u001b[0m\u001b[0m\n\u001b[0m\u001b[0;32m    307\u001b[0m             \u001b[1;32mif\u001b[0m \u001b[0mstatus\u001b[0m \u001b[1;33m!=\u001b[0m \u001b[0mCONTINUE\u001b[0m\u001b[1;33m:\u001b[0m\u001b[1;33m\u001b[0m\u001b[1;33m\u001b[0m\u001b[0m\n\u001b[0;32m    308\u001b[0m                 \u001b[1;32mbreak\u001b[0m\u001b[1;33m\u001b[0m\u001b[1;33m\u001b[0m\u001b[0m\n",
      "\u001b[1;32mC:\\ProgramData\\Anaconda3\\lib\\http\\client.py\u001b[0m in \u001b[0;36m_read_status\u001b[1;34m(self)\u001b[0m\n\u001b[0;32m    265\u001b[0m \u001b[1;33m\u001b[0m\u001b[0m\n\u001b[0;32m    266\u001b[0m     \u001b[1;32mdef\u001b[0m \u001b[0m_read_status\u001b[0m\u001b[1;33m(\u001b[0m\u001b[0mself\u001b[0m\u001b[1;33m)\u001b[0m\u001b[1;33m:\u001b[0m\u001b[1;33m\u001b[0m\u001b[1;33m\u001b[0m\u001b[0m\n\u001b[1;32m--> 267\u001b[1;33m         \u001b[0mline\u001b[0m \u001b[1;33m=\u001b[0m \u001b[0mstr\u001b[0m\u001b[1;33m(\u001b[0m\u001b[0mself\u001b[0m\u001b[1;33m.\u001b[0m\u001b[0mfp\u001b[0m\u001b[1;33m.\u001b[0m\u001b[0mreadline\u001b[0m\u001b[1;33m(\u001b[0m\u001b[0m_MAXLINE\u001b[0m \u001b[1;33m+\u001b[0m \u001b[1;36m1\u001b[0m\u001b[1;33m)\u001b[0m\u001b[1;33m,\u001b[0m \u001b[1;34m\"iso-8859-1\"\u001b[0m\u001b[1;33m)\u001b[0m\u001b[1;33m\u001b[0m\u001b[1;33m\u001b[0m\u001b[0m\n\u001b[0m\u001b[0;32m    268\u001b[0m         \u001b[1;32mif\u001b[0m \u001b[0mlen\u001b[0m\u001b[1;33m(\u001b[0m\u001b[0mline\u001b[0m\u001b[1;33m)\u001b[0m \u001b[1;33m>\u001b[0m \u001b[0m_MAXLINE\u001b[0m\u001b[1;33m:\u001b[0m\u001b[1;33m\u001b[0m\u001b[1;33m\u001b[0m\u001b[0m\n\u001b[0;32m    269\u001b[0m             \u001b[1;32mraise\u001b[0m \u001b[0mLineTooLong\u001b[0m\u001b[1;33m(\u001b[0m\u001b[1;34m\"status line\"\u001b[0m\u001b[1;33m)\u001b[0m\u001b[1;33m\u001b[0m\u001b[1;33m\u001b[0m\u001b[0m\n",
      "\u001b[1;32mC:\\ProgramData\\Anaconda3\\lib\\socket.py\u001b[0m in \u001b[0;36mreadinto\u001b[1;34m(self, b)\u001b[0m\n\u001b[0;32m    587\u001b[0m         \u001b[1;32mwhile\u001b[0m \u001b[1;32mTrue\u001b[0m\u001b[1;33m:\u001b[0m\u001b[1;33m\u001b[0m\u001b[1;33m\u001b[0m\u001b[0m\n\u001b[0;32m    588\u001b[0m             \u001b[1;32mtry\u001b[0m\u001b[1;33m:\u001b[0m\u001b[1;33m\u001b[0m\u001b[1;33m\u001b[0m\u001b[0m\n\u001b[1;32m--> 589\u001b[1;33m                 \u001b[1;32mreturn\u001b[0m \u001b[0mself\u001b[0m\u001b[1;33m.\u001b[0m\u001b[0m_sock\u001b[0m\u001b[1;33m.\u001b[0m\u001b[0mrecv_into\u001b[0m\u001b[1;33m(\u001b[0m\u001b[0mb\u001b[0m\u001b[1;33m)\u001b[0m\u001b[1;33m\u001b[0m\u001b[1;33m\u001b[0m\u001b[0m\n\u001b[0m\u001b[0;32m    590\u001b[0m             \u001b[1;32mexcept\u001b[0m \u001b[0mtimeout\u001b[0m\u001b[1;33m:\u001b[0m\u001b[1;33m\u001b[0m\u001b[1;33m\u001b[0m\u001b[0m\n\u001b[0;32m    591\u001b[0m                 \u001b[0mself\u001b[0m\u001b[1;33m.\u001b[0m\u001b[0m_timeout_occurred\u001b[0m \u001b[1;33m=\u001b[0m \u001b[1;32mTrue\u001b[0m\u001b[1;33m\u001b[0m\u001b[1;33m\u001b[0m\u001b[0m\n",
      "\u001b[1;31mKeyboardInterrupt\u001b[0m: "
     ]
    }
   ],
   "source": [
    "## Scrape city data from 'https://www.holidify.com/country/india/places-to-visit.html?pageNum=0'\n",
    "\n",
    "driver = webdriver.Chrome(ChromeDriverManager().install())\n",
    "driver.get('https://www.holidify.com/country/india/places-to-visit.html?pageNum=0')\n",
    "content = driver.page_source\n",
    "soup = BeautifulSoup(content)\n",
    "cities = []\n",
    "while(soup.find('li', attrs={'class': 'page-item next ml-auto'})):\n",
    "    job_elems = soup.find_all('div', attrs={\n",
    "    'class': 'col-12 col-md-6 pr-md-3'})\n",
    "    for elem in job_elems:\n",
    "        c = elem.find('h3', attrs={\n",
    "            'class': 'card-heading'\n",
    "        })\n",
    "        cities.append(c.text.split('. ')[1].strip() if c!=None else None)\n",
    "    l = driver.find_element_by_link_text('Next')\n",
    "    l.click()\n",
    "    time.sleep(1)\n",
    "    content = driver.page_source\n",
    "    soup = BeautifulSoup(content)\n",
    "     \n",
    "job_elems = soup.find_all('div', attrs={\n",
    "    'class': 'col-12 col-md-6 pr-md-3'})\n",
    "for elem in job_elems:\n",
    "    c = elem.find('h3', attrs={\n",
    "        'class': 'card-heading'\n",
    "    })\n",
    "    cities.append(c.text.split('. ')[1].strip() if c!=None else None)\n",
    "\n",
    "cities = pd.Series(cities, name='City')\n",
    "cities.to_csv('cities.csv')\n",
    "\n",
    "driver.close()"
   ]
  },
  {
   "cell_type": "code",
   "execution_count": 52,
   "metadata": {
    "ExecuteTime": {
     "end_time": "2020-07-31T14:19:58.159796Z",
     "start_time": "2020-07-31T14:19:58.145794Z"
    }
   },
   "outputs": [
    {
     "data": {
      "text/plain": [
       "100"
      ]
     },
     "execution_count": 52,
     "metadata": {},
     "output_type": "execute_result"
    }
   ],
   "source": [
    "len(cities)"
   ]
  },
  {
   "cell_type": "code",
   "execution_count": 69,
   "metadata": {
    "ExecuteTime": {
     "end_time": "2020-07-31T14:52:50.476584Z",
     "start_time": "2020-07-31T14:52:50.464591Z"
    }
   },
   "outputs": [],
   "source": [
    "def scrape_data_places(job_elems, name, rating, link, distance, location,\n",
    "                      about):\n",
    "    for job_elem in job_elems:\n",
    "        n = job_elem.find('h3', attrs={\n",
    "            'class': 'card-heading'\n",
    "        })\n",
    "        name.append(n.text.split('. ')[1].strip() if n!=None else None)\n",
    "\n",
    "        r = job_elem.find('span', attrs={\n",
    "            'class': 'rating-badge'\n",
    "        })\n",
    "        rating.append(r.text.split('\\n')[1].strip() if r!=None else None)\n",
    "\n",
    "        l = job_elem.find('div', attrs={\n",
    "            'class': 'card content-card'\n",
    "        }).find('a', href=True)\n",
    "        link.append(l['href'] if l!=None else None)\n",
    "\n",
    "        d = job_elem.find('p', attrs={\n",
    "            'class': 'objective'\n",
    "        }).find('span')\n",
    "        distance.append(d.text.strip() if d!=None else None)\n",
    "\n",
    "        l = job_elem.find('p', attrs={\n",
    "            'class': 'mb-2'\n",
    "        })\n",
    "        location.append(l.text.split(':')[1].strip() if l!=None else None)\n",
    "\n",
    "        a = job_elem.find('p', attrs={\n",
    "            'class': 'card-text'\n",
    "        })\n",
    "        about.append(a.text.strip() if a!=None else None)"
   ]
  },
  {
   "cell_type": "code",
   "execution_count": 92,
   "metadata": {
    "ExecuteTime": {
     "end_time": "2020-07-31T17:08:12.385563Z",
     "start_time": "2020-07-31T17:08:12.371571Z"
    }
   },
   "outputs": [],
   "source": [
    "cities = pd.read_csv('cities.csv')\n",
    "# cities = cities['Cities'].values\n",
    "# cities[:5]"
   ]
  },
  {
   "cell_type": "code",
   "execution_count": 105,
   "metadata": {
    "ExecuteTime": {
     "end_time": "2020-08-01T04:38:37.918296Z",
     "start_time": "2020-08-01T04:38:27.880893Z"
    }
   },
   "outputs": [
    {
     "name": "stderr",
     "output_type": "stream",
     "text": [
      "[WDM] - Current google-chrome version is 84.0.4147\n",
      "[WDM] - Get LATEST driver version for 84.0.4147\n"
     ]
    },
    {
     "name": "stdout",
     "output_type": "stream",
     "text": [
      " \n"
     ]
    },
    {
     "name": "stderr",
     "output_type": "stream",
     "text": [
      "[WDM] - Driver [C:\\Users\\l\\.wdm\\drivers\\chromedriver\\win32\\84.0.4147.30\\chromedriver.exe] found in cache\n"
     ]
    }
   ],
   "source": [
    "driver = webdriver.Chrome(ChromeDriverManager().install())\n",
    "for city in cit:\n",
    "    name = []\n",
    "    rating = []\n",
    "    link = []\n",
    "    distance = []\n",
    "    location = []\n",
    "    about = []\n",
    "    city = city.lower().split(' (')[0].strip().replace(' ', '-')\n",
    "    driver.get('https://www.holidify.com/places/'+ city + '/sightseeing-and-things-to-do.html')\n",
    "    content = driver.page_source\n",
    "    soup = BeautifulSoup(content)\n",
    "    cities = []\n",
    "    while(soup.find('li', attrs={'class': 'page-item next ml-auto'})):\n",
    "        job_elems = soup.find_all('div', attrs={\n",
    "        'class': 'col-12 col-md-6 pr-md-3'})\n",
    "        scrape_data_places(job_elems, name, rating, link, distance, location,\n",
    "                           about)\n",
    "        l = driver.find_element_by_link_text('Next')\n",
    "        l.click()\n",
    "        time.sleep(1)\n",
    "        content = driver.page_source\n",
    "        soup = BeautifulSoup(content)\n",
    "\n",
    "    job_elems = soup.find_all('div', attrs={\n",
    "        'class': 'col-12 col-md-6 pr-md-3'})\n",
    "    scrape_data_places(job_elems, name, rating, link, distance, location,\n",
    "                       about)\n",
    "\n",
    "    data = pd.DataFrame({\n",
    "        'Name': name, \n",
    "        'Rating': rating, \n",
    "        'Link': link,\n",
    "        'Distance': distance,\n",
    "        'Location': location,\n",
    "        'About': about})\n",
    "    data.to_csv('./data/'+city+'.csv')\n",
    "\n",
    "driver.close()"
   ]
  },
  {
   "cell_type": "code",
   "execution_count": null,
   "metadata": {},
   "outputs": [],
   "source": []
  },
  {
   "cell_type": "markdown",
   "metadata": {
    "heading_collapsed": true
   },
   "source": [
    "## Thrillophilia"
   ]
  },
  {
   "cell_type": "markdown",
   "metadata": {
    "hidden": true
   },
   "source": [
    "Found 51 cities out of which for the following data was not present:\n",
    "<b>['bir', 'corbett-national-park', 'desert-of-jaisalmer', 'dudhsagar-falls', 'ghats-in-varanasi', 'grand-island', 'gulmarg', 'mathura', 'ropkund-lake', 'valley-of-flowers']</b>\n",
    "\n",
    "The rest of the cities data can be found in `../data/thrillophilia`. The list of cities can be found in `../data/thrillophilia/1. cities.csv`."
   ]
  },
  {
   "cell_type": "code",
   "execution_count": 10,
   "metadata": {
    "ExecuteTime": {
     "end_time": "2020-08-01T08:15:57.144419Z",
     "start_time": "2020-08-01T08:15:57.114413Z"
    },
    "hidden": true
   },
   "outputs": [],
   "source": [
    "cities = pd.read_excel('../data/thrillophilia/1. cities.xlsx')\n",
    "cities =cities['City'].apply(lambda x: x.split('. ')[1].strip())\n",
    "cities = pd.Series(cities, name='City')\n",
    "cities.to_csv('../data/thrillophilia/1. cities.csv')"
   ]
  },
  {
   "cell_type": "code",
   "execution_count": 21,
   "metadata": {
    "ExecuteTime": {
     "end_time": "2020-08-01T08:52:51.610647Z",
     "start_time": "2020-08-01T08:52:51.599645Z"
    },
    "hidden": true
   },
   "outputs": [
    {
     "data": {
      "text/plain": [
       "array(['Khajjiar', 'Manali', 'Shimla', 'Kasol', 'Dalhousie'], dtype=object)"
      ]
     },
     "execution_count": 21,
     "metadata": {},
     "output_type": "execute_result"
    }
   ],
   "source": [
    "site = 'https://www.thrillophilia.com/places-to-visit-in-'\n",
    "cities = pd.read_csv('../data/thrillophilia/1. cities.csv')\n",
    "cities = cities['City'].values\n",
    "cities[:5]"
   ]
  },
  {
   "cell_type": "code",
   "execution_count": 28,
   "metadata": {
    "ExecuteTime": {
     "end_time": "2020-08-01T09:10:50.484926Z",
     "start_time": "2020-08-01T09:10:50.477924Z"
    },
    "hidden": true
   },
   "outputs": [],
   "source": [
    "# These require different method\n",
    "cit = ['bandipur', 'bharatpur', 'bir', 'coorg', 'corbett-national-park',\n",
    "      'dehradun', 'desert-of-jaisalmer', 'dudhsagar-falls', \n",
    "      'ghats-in-varanasi', 'gokarna', 'grand-island', 'gulmarg', 'haridwar',\n",
    "      'kabini', 'kamshet', 'kashmir-valley', 'kolad', 'ladakh', 'mathura',\n",
    "      'north-goa', 'pune', 'rishikesh', 'ropkund-lake', 'south-goa', \n",
    "      'valley-of-flowers']"
   ]
  },
  {
   "cell_type": "code",
   "execution_count": 13,
   "metadata": {
    "ExecuteTime": {
     "end_time": "2020-08-01T08:36:10.933821Z",
     "start_time": "2020-08-01T08:36:04.249639Z"
    },
    "hidden": true
   },
   "outputs": [
    {
     "name": "stderr",
     "output_type": "stream",
     "text": [
      "[WDM] - Current google-chrome version is 84.0.4147\n",
      "[WDM] - Get LATEST driver version for 84.0.4147\n",
      "[WDM] - Driver [C:\\Users\\l\\.wdm\\drivers\\chromedriver\\win32\\84.0.4147.30\\chromedriver.exe] found in cache\n"
     ]
    },
    {
     "name": "stdout",
     "output_type": "stream",
     "text": [
      " \n"
     ]
    }
   ],
   "source": [
    "# test \n",
    "\n",
    "driver = webdriver.Chrome(ChromeDriverManager().install())\n",
    "driver.get('https://www.thrillophilia.com/places-to-visit-in-khajjiar')\n",
    "content = driver.page_source\n",
    "soup = BeautifulSoup(content)\n",
    "name = []\n",
    "about = []\n",
    "\n",
    "job_elems = soup.find_all('div', attrs={\n",
    "    'class': 'base-block main-card-container content-main-card'})\n",
    "for elem in job_elems:\n",
    "    n = elem.find('h3', attrs={\n",
    "        'class': 'h3 title'\n",
    "    })\n",
    "    time.sleep(0.2)\n",
    "    name.append(n.text.strip() if n!=None else None)\n",
    "    \n",
    "    a = elem.find('div', attrs={\n",
    "        'class': 'read-more-content lazy-read-more'\n",
    "    })\n",
    "    about.append(a.text.strip() if a!=None else None)     \n",
    "\n",
    "# driver.close()"
   ]
  },
  {
   "cell_type": "code",
   "execution_count": 15,
   "metadata": {
    "ExecuteTime": {
     "end_time": "2020-08-01T08:36:59.303941Z",
     "start_time": "2020-08-01T08:36:59.288928Z"
    },
    "hidden": true
   },
   "outputs": [
    {
     "name": "stdout",
     "output_type": "stream",
     "text": [
      "10\t10\n"
     ]
    }
   ],
   "source": [
    "print(f'{len(name)}\\t{len(about)}')"
   ]
  },
  {
   "cell_type": "code",
   "execution_count": 27,
   "metadata": {
    "ExecuteTime": {
     "end_time": "2020-08-01T09:09:21.488394Z",
     "start_time": "2020-08-01T09:09:18.221929Z"
    },
    "hidden": true
   },
   "outputs": [
    {
     "name": "stderr",
     "output_type": "stream",
     "text": [
      "[WDM] - Current google-chrome version is 84.0.4147\n",
      "[WDM] - Get LATEST driver version for 84.0.4147\n",
      "[WDM] - Driver [C:\\Users\\l\\.wdm\\drivers\\chromedriver\\win32\\84.0.4147.30\\chromedriver.exe] found in cache\n"
     ]
    },
    {
     "name": "stdout",
     "output_type": "stream",
     "text": [
      " \n"
     ]
    }
   ],
   "source": [
    "# extracting data for places not in cit\n",
    "\n",
    "driver = webdriver.Chrome(ChromeDriverManager().install())\n",
    "for city in cities:\n",
    "    name = []\n",
    "    about = []\n",
    "    if city in cit:\n",
    "        continue\n",
    "    city = city.lower().split(' (')[0].strip().replace(' ', '-')\n",
    "    driver.get(site + city)\n",
    "    time.sleep(0.5)\n",
    "    content = driver.page_source\n",
    "    soup = BeautifulSoup(content)\n",
    "    cities = []\n",
    "   \n",
    "    job_elems = soup.find_all('div', attrs={\n",
    "    'class': 'base-block main-card-container content-main-card'})\n",
    "    \n",
    "    for elem in job_elems:\n",
    "        n = elem.find('h3', attrs={\n",
    "            'class': 'h3 title'\n",
    "        })\n",
    "        name.append(n.text.strip() if n!=None else None)\n",
    "\n",
    "        a = elem.find('div', attrs={\n",
    "            'class': 'read-more-content lazy-read-more'\n",
    "        })\n",
    "        about.append(a.text.strip() if a!=None else None)\n",
    "    \n",
    "    data = pd.DataFrame({\n",
    "        'Name': name,\n",
    "        'About': about})\n",
    "    data.to_csv('../data/thrillophilia/'+city+'.csv')\n",
    "\n",
    "driver.close()"
   ]
  },
  {
   "cell_type": "code",
   "execution_count": 23,
   "metadata": {
    "ExecuteTime": {
     "end_time": "2020-08-01T08:57:29.979262Z",
     "start_time": "2020-08-01T08:57:25.263349Z"
    },
    "hidden": true
   },
   "outputs": [
    {
     "name": "stderr",
     "output_type": "stream",
     "text": [
      "[WDM] - Current google-chrome version is 84.0.4147\n",
      "[WDM] - Get LATEST driver version for 84.0.4147\n",
      "[WDM] - Driver [C:\\Users\\l\\.wdm\\drivers\\chromedriver\\win32\\84.0.4147.30\\chromedriver.exe] found in cache\n"
     ]
    },
    {
     "name": "stdout",
     "output_type": "stream",
     "text": [
      " \n"
     ]
    }
   ],
   "source": [
    "# driver = webdriver.Chrome(ChromeDriverManager().install())\n",
    "# driver.get('https://www.thrillophilia.com/places-to-visit-in-bandipur')"
   ]
  },
  {
   "cell_type": "code",
   "execution_count": 34,
   "metadata": {
    "ExecuteTime": {
     "end_time": "2020-08-01T09:21:52.980264Z",
     "start_time": "2020-08-01T09:21:47.972814Z"
    },
    "hidden": true
   },
   "outputs": [
    {
     "name": "stderr",
     "output_type": "stream",
     "text": [
      "[WDM] - Current google-chrome version is 84.0.4147\n",
      "[WDM] - Get LATEST driver version for 84.0.4147\n",
      "[WDM] - Driver [C:\\Users\\l\\.wdm\\drivers\\chromedriver\\win32\\84.0.4147.30\\chromedriver.exe] found in cache\n"
     ]
    },
    {
     "name": "stdout",
     "output_type": "stream",
     "text": [
      " \n"
     ]
    }
   ],
   "source": [
    "# extracting data for cities in cit\n",
    "\n",
    "driver = webdriver.Chrome(ChromeDriverManager().install())\n",
    "for city in c:\n",
    "    name = []\n",
    "    about = []\n",
    "    city = city.lower().split(' (')[0].strip().replace(' ', '-')\n",
    "    driver.get('https://www.thrillophilia.com/destinations/' + city +\n",
    "               '/places-to-visit')\n",
    "    time.sleep(0.5)\n",
    "    content = driver.page_source\n",
    "    soup = BeautifulSoup(content)\n",
    "    cities = []\n",
    "   \n",
    "    job_elems = soup.find_all('div', attrs={\n",
    "    'class': 'base-block main-card-container attraction-main-card'})\n",
    "    \n",
    "    for elem in job_elems:\n",
    "        n = elem.find('h3', attrs={\n",
    "            'class': 'h3 title'\n",
    "        })\n",
    "        name.append(n.text.strip() if n!=None else None)\n",
    "\n",
    "        a = elem.find('div', attrs={\n",
    "            'class': 'read-more-content lazy-read-more'\n",
    "        })\n",
    "        about.append(a.text.strip() if a!=None else None)\n",
    "    \n",
    "    data = pd.DataFrame({\n",
    "        'Name': name,\n",
    "        'About': about})\n",
    "    data.to_csv('../data/thrillophilia1/'+city+'.csv')\n",
    "\n",
    "driver.close()"
   ]
  },
  {
   "cell_type": "code",
   "execution_count": null,
   "metadata": {
    "hidden": true
   },
   "outputs": [],
   "source": []
  },
  {
   "cell_type": "markdown",
   "metadata": {
    "ExecuteTime": {
     "end_time": "2020-08-01T09:27:21.134737Z",
     "start_time": "2020-08-01T09:27:21.125735Z"
    }
   },
   "source": [
    "## Tarwell"
   ]
  },
  {
   "cell_type": "code",
   "execution_count": 39,
   "metadata": {
    "ExecuteTime": {
     "end_time": "2020-08-01T09:43:29.999402Z",
     "start_time": "2020-08-01T09:43:01.618933Z"
    },
    "scrolled": true
   },
   "outputs": [
    {
     "name": "stderr",
     "output_type": "stream",
     "text": [
      "[WDM] - Current google-chrome version is 84.0.4147\n",
      "[WDM] - Get LATEST driver version for 84.0.4147\n"
     ]
    },
    {
     "name": "stdout",
     "output_type": "stream",
     "text": [
      " \n"
     ]
    },
    {
     "name": "stderr",
     "output_type": "stream",
     "text": [
      "[WDM] - Driver [C:\\Users\\l\\.wdm\\drivers\\chromedriver\\win32\\84.0.4147.30\\chromedriver.exe] found in cache\n"
     ]
    }
   ],
   "source": [
    "# driver = webdriver.Chrome(ChromeDriverManager().install())\n",
    "# driver.get('https://www.trawell.in/india/best?more=9')\n",
    "# driver.execute_script(\"window.scrollTo(0, document.body.scrollHeight)\") \n",
    "# time.sleep(1)"
   ]
  },
  {
   "cell_type": "code",
   "execution_count": 55,
   "metadata": {
    "ExecuteTime": {
     "end_time": "2020-08-01T10:29:39.234247Z",
     "start_time": "2020-08-01T10:29:24.470720Z"
    }
   },
   "outputs": [
    {
     "name": "stderr",
     "output_type": "stream",
     "text": [
      "[WDM] - Current google-chrome version is 84.0.4147\n",
      "[WDM] - Get LATEST driver version for 84.0.4147\n",
      "[WDM] - Driver [C:\\Users\\l\\.wdm\\drivers\\chromedriver\\win32\\84.0.4147.30\\chromedriver.exe] found in cache\n"
     ]
    },
    {
     "name": "stdout",
     "output_type": "stream",
     "text": [
      " \n"
     ]
    }
   ],
   "source": [
    "## Scrape city data from 'https://www.trawell.in/india/best?more=9'\n",
    "\n",
    "driver = webdriver.Chrome(ChromeDriverManager().install())\n",
    "driver.get('https://www.trawell.in/india/best?more=9')\n",
    "driver.execute_script(\"window.scrollTo(0, document.body.scrollHeight)\") \n",
    "time.sleep(1)\n",
    "content = driver.page_source\n",
    "soup = BeautifulSoup(content)\n",
    "cities = []\n",
    "link = []\n",
    "job_elems = soup.find_all('div', attrs={\n",
    "    'class': 'destDiv'})\n",
    "for elem in job_elems:\n",
    "    c = elem.find('h2')\n",
    "    cities.append(c.text.strip() if c!=None else None)\n",
    "    \n",
    "    l = elem.find('div', attrs={\n",
    "        'class': 'col-md-9 destTitleMain'\n",
    "    }).find('a', href=True)\n",
    "    link.append(l['href'] if l!=None else None)\n",
    "\n",
    "city = pd.DataFrame({\n",
    "    'City': cities,\n",
    "    'Link': link\n",
    "})\n",
    "city.to_csv('../data/trawell/1. cities.csv')\n",
    "\n",
    "driver.close()"
   ]
  },
  {
   "cell_type": "code",
   "execution_count": 46,
   "metadata": {
    "ExecuteTime": {
     "end_time": "2020-08-01T10:03:35.888021Z",
     "start_time": "2020-08-01T10:03:35.881020Z"
    }
   },
   "outputs": [
    {
     "data": {
      "text/plain": [
       "(0      Delhi City\n",
       " 1            Agra\n",
       " 2    Panjim (Goa)\n",
       " 3        Varanasi\n",
       " 4          Shimla\n",
       " Name: City, dtype: object,\n",
       " ['/delhi/delhi-city',\n",
       "  '/uttar-pradesh/agra',\n",
       "  '/goa/panjim',\n",
       "  '/uttar-pradesh/varanasi',\n",
       "  '/himachal/shimla'])"
      ]
     },
     "execution_count": 46,
     "metadata": {},
     "output_type": "execute_result"
    }
   ],
   "source": [
    "cities[:5], link[:5]"
   ]
  },
  {
   "cell_type": "code",
   "execution_count": 50,
   "metadata": {
    "ExecuteTime": {
     "end_time": "2020-08-01T10:16:09.516465Z",
     "start_time": "2020-08-01T10:16:09.511464Z"
    }
   },
   "outputs": [],
   "source": [
    "site_1 = 'https://www.trawell.in'\n",
    "site_2 = '/places-to-visit-things-to-do'"
   ]
  },
  {
   "cell_type": "code",
   "execution_count": 81,
   "metadata": {
    "ExecuteTime": {
     "end_time": "2020-08-01T10:53:18.715423Z",
     "start_time": "2020-08-01T10:53:18.701420Z"
    }
   },
   "outputs": [
    {
     "data": {
      "text/plain": [
       "(array(['Delhi City', 'Agra', 'Panjim (Goa)', 'Varanasi', 'Shimla'],\n",
       "       dtype=object),\n",
       " array(['/delhi/delhi-city', '/uttar-pradesh/agra', '/goa/panjim',\n",
       "        '/uttar-pradesh/varanasi', '/himachal/shimla'], dtype=object))"
      ]
     },
     "execution_count": 81,
     "metadata": {},
     "output_type": "execute_result"
    }
   ],
   "source": [
    "d = pd.read_csv('../data/trawell/1. cities.csv')\n",
    "links = d['Link'].values\n",
    "cities = d['City'].values\n",
    "cities[:5], links[:5]"
   ]
  },
  {
   "cell_type": "code",
   "execution_count": 82,
   "metadata": {
    "ExecuteTime": {
     "end_time": "2020-08-01T10:57:09.283142Z",
     "start_time": "2020-08-01T10:53:28.021267Z"
    }
   },
   "outputs": [
    {
     "name": "stderr",
     "output_type": "stream",
     "text": [
      "[WDM] - Current google-chrome version is 84.0.4147\n",
      "[WDM] - Get LATEST driver version for 84.0.4147\n",
      "[WDM] - Driver [C:\\Users\\l\\.wdm\\drivers\\chromedriver\\win32\\84.0.4147.30\\chromedriver.exe] found in cache\n"
     ]
    },
    {
     "name": "stdout",
     "output_type": "stream",
     "text": [
      " \n"
     ]
    }
   ],
   "source": [
    "## Scrape places data from 'https://www.trawell.in/xxx/places-to-visit-things-to-do'\n",
    "\n",
    "driver = webdriver.Chrome(ChromeDriverManager().install())\n",
    "for i, link in enumerate(links):\n",
    "    driver.get(site_1+link+site_2)\n",
    "    content = driver.page_source\n",
    "    soup = BeautifulSoup(content)\n",
    "    name = []\n",
    "    \n",
    "    details_link = []\n",
    "    job_elems = soup.find_all('div', attrs={\n",
    "        'class': 'destDiv'})\n",
    "    for elem in job_elems:\n",
    "        n = elem.find('h3', attrs={\n",
    "            'class': 'destTitle'\n",
    "        })\n",
    "        name.append(n.text.strip() if c!=None else None)\n",
    "\n",
    "        l = elem.find('a', href=True, attrs={\n",
    "            'class': \"btn btn-sm lnkViewDetails fright\"\n",
    "        })\n",
    "        details_link.append(l['href'] if l!=None else None)\n",
    "\n",
    "        data = pd.DataFrame({\n",
    "            'City': name,\n",
    "            'Link': details_link\n",
    "        })\n",
    "        \n",
    "    data.to_csv('../data/trawell/'+cities[i].lower().replace(' ', '-')+'.csv')\n",
    "\n",
    "driver.close()"
   ]
  },
  {
   "cell_type": "code",
   "execution_count": 79,
   "metadata": {
    "ExecuteTime": {
     "end_time": "2020-08-01T10:52:17.570237Z",
     "start_time": "2020-08-01T10:52:17.557234Z"
    }
   },
   "outputs": [],
   "source": [
    "# testing\n",
    "\n",
    "# driver = webdriver.Chrome(ChromeDriverManager().install())\n",
    "# driver.get(site_1+links[0]+site_2)\n",
    "# content = driver.page_source\n",
    "# soup = BeautifulSoup(content)"
   ]
  },
  {
   "cell_type": "code",
   "execution_count": 80,
   "metadata": {
    "ExecuteTime": {
     "end_time": "2020-08-01T10:52:17.992617Z",
     "start_time": "2020-08-01T10:52:17.988618Z"
    }
   },
   "outputs": [],
   "source": [
    "# testing\n",
    "\n",
    "# name = []\n",
    "# details_link = []\n",
    "# job_elems = soup.find_all('div', attrs={\n",
    "#     'class': 'destDiv'})\n",
    "# for elem in job_elems:\n",
    "#     n = elem.find('h3', attrs={\n",
    "#         'class': 'destTitle'\n",
    "#     })\n",
    "#     name.append(n.text.strip() if c!=None else None)\n",
    "\n",
    "#     l = elem.find('a', href=True, attrs={\n",
    "#         'class': \"btn btn-sm lnkViewDetails fright\"\n",
    "#     })\n",
    "#     details_link.append(l['href'] if l!=None else None)"
   ]
  },
  {
   "cell_type": "code",
   "execution_count": 77,
   "metadata": {
    "ExecuteTime": {
     "end_time": "2020-08-01T10:50:19.069792Z",
     "start_time": "2020-08-01T10:50:19.052777Z"
    }
   },
   "outputs": [
    {
     "name": "stdout",
     "output_type": "stream",
     "text": [
      "['Red Fort', 'Qutub Minar', \"Humayun's Tomb\", 'Jantar Mantar', 'Akshardham Temple / Swaminarayan Temple', 'Lotus Temple / Bahai Temple', 'Jama Masjid', 'Raj Ghat', 'Safdarjung Tomb', 'India Gate', 'Dargah Hazrat Nizamuddin', 'Lodi Garden', 'Birla Mandir / Laksminarayan Temple', 'Aadya Katyayani Shakti Peeth Mandir - Chhatarpur', 'ISKON Temple', 'National Museum', 'Mehrauli Archaeological Park', 'National Zoological Park', 'National Museum Of Natural History', 'National Science Centre', 'National Gallery Of Modern Art', 'Alai Minar', 'Alai Darwaza', 'Alauddin Khilji Tomb And Madrasa', 'Tomb Of Iltutmish', \"Isa Khan's Tomb And Mosque\", 'Chausath Khamba / Chaunsath Khamba', 'Barakhamba', 'Old Fort / Purana Qila', 'Tughlaqabad Fort', 'Jahaz Mahal', 'Sri Digambar Jain Lal Temple / Lal Mandir', 'Mughal Garden', 'Iron Pillar']\t['/delhi/delhi-city/red-fort', '/delhi/delhi-city/qutub-minar', '/delhi/delhi-city/humayuns-tomb', '/delhi/delhi-city/jantar-mantar', '/delhi/delhi-city/akshardham-temple-swaminarayan-temple', '/delhi/delhi-city/lotus-temple-bahai-temple', '/delhi/delhi-city/jama-masjid', '/delhi/delhi-city/raj-ghat', '/delhi/delhi-city/safdarjung-tomb', '/delhi/delhi-city/india-gate', '/delhi/delhi-city/dargah-hazrat-nizamuddin', '/delhi/delhi-city/lodi-garden', '/delhi/delhi-city/birla-mandir-laksminarayan-temple', '/delhi/delhi-city/aadya-katyayani-shakti-peeth-mandir-chhatarpur', '/delhi/delhi-city/iskon-temple', '/delhi/delhi-city/national-museum', '/delhi/delhi-city/mehrauli-archaeological-park', '/delhi/delhi-city/national-zoological-park', '/delhi/delhi-city/national-museum-of-natural-history', '/delhi/delhi-city/national-science-centre', '/delhi/delhi-city/national-gallery-of-modern-art', '/delhi/delhi-city/alai-minar', '/delhi/delhi-city/alai-darwaza', '/delhi/delhi-city/alauddin-khilji-tomb-and-madrasa', '/delhi/delhi-city/tomb-of-iltutmish', '/delhi/delhi-city/isa-khans-tomb-and-mosque', '/delhi/delhi-city/chausath-khamba-chaunsath-khamba', '/delhi/delhi-city/barakhamba', '/delhi/delhi-city/old-fort-purana-qila', '/delhi/delhi-city/tughlaqabad-fort', '/delhi/delhi-city/jahaz-mahal', '/delhi/delhi-city/sri-digambar-jain-lal-temple-lal-mandir', '/delhi/delhi-city/mughal-garden', '/delhi/delhi-city/iron-pillar']\n"
     ]
    }
   ],
   "source": [
    "# print(f'{name}\\t{details_link}')"
   ]
  },
  {
   "cell_type": "code",
   "execution_count": null,
   "metadata": {},
   "outputs": [],
   "source": []
  }
 ],
 "metadata": {
  "kernelspec": {
   "display_name": "Python 3",
   "language": "python",
   "name": "python3"
  },
  "language_info": {
   "codemirror_mode": {
    "name": "ipython",
    "version": 3
   },
   "file_extension": ".py",
   "mimetype": "text/x-python",
   "name": "python",
   "nbconvert_exporter": "python",
   "pygments_lexer": "ipython3",
   "version": "3.7.6"
  },
  "toc": {
   "base_numbering": 1,
   "nav_menu": {},
   "number_sections": true,
   "sideBar": true,
   "skip_h1_title": false,
   "title_cell": "Table of Contents",
   "title_sidebar": "Contents",
   "toc_cell": false,
   "toc_position": {},
   "toc_section_display": true,
   "toc_window_display": false
  },
  "varInspector": {
   "cols": {
    "lenName": 16,
    "lenType": 16,
    "lenVar": 40
   },
   "kernels_config": {
    "python": {
     "delete_cmd_postfix": "",
     "delete_cmd_prefix": "del ",
     "library": "var_list.py",
     "varRefreshCmd": "print(var_dic_list())"
    },
    "r": {
     "delete_cmd_postfix": ") ",
     "delete_cmd_prefix": "rm(",
     "library": "var_list.r",
     "varRefreshCmd": "cat(var_dic_list()) "
    }
   },
   "types_to_exclude": [
    "module",
    "function",
    "builtin_function_or_method",
    "instance",
    "_Feature"
   ],
   "window_display": false
  }
 },
 "nbformat": 4,
 "nbformat_minor": 4
}
