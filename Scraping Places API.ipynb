{
 "cells": [
  {
   "cell_type": "markdown",
   "metadata": {},
   "source": [
    "<h4>Importing required libraries</h4>"
   ]
  },
  {
   "cell_type": "code",
   "execution_count": 10,
   "metadata": {
    "ExecuteTime": {
     "end_time": "2020-06-09T08:20:15.757723Z",
     "start_time": "2020-06-09T08:20:15.754723Z"
    }
   },
   "outputs": [],
   "source": [
    "import requests\n",
    "import json\n",
    "import os"
   ]
  },
  {
   "cell_type": "markdown",
   "metadata": {},
   "source": [
    "<h4>Creating list of <i>place_types</i> for each of 4 users: <u>FOTEDAR</u>, <u>SHANDILYA</u>, <u>SHETTY</u> and <u>DANGWAL</u></h4>"
   ]
  },
  {
   "cell_type": "code",
   "execution_count": 2,
   "metadata": {
    "ExecuteTime": {
     "end_time": "2020-06-09T08:00:22.624334Z",
     "start_time": "2020-06-09T08:00:22.618333Z"
    }
   },
   "outputs": [],
   "source": [
    "s = \"\"\"airport\n",
    "amusement_park\n",
    "aquarium\n",
    "art_gallery\n",
    "atm\n",
    "bakery\n",
    "bar\n",
    "book_store\n",
    "bowling_alley\n",
    "bus_station\n",
    "cafe\n",
    "campground\n",
    "car_rental\n",
    "casino\n",
    "church\n",
    "embassy\n",
    "gas_station\n",
    "hindu_temple\n",
    "hospital\n",
    "library\n",
    "light_rail_station\n",
    "liquor_store\n",
    "lodging\n",
    "meal_delivery\n",
    "meal_takeaway\n",
    "mosque\n",
    "movie_theater\n",
    "museum\n",
    "night_club\n",
    "park\n",
    "police\n",
    "restaurant\n",
    "rv_park\n",
    "shopping_mall\n",
    "spa\n",
    "stadium\n",
    "subway_station\n",
    "synagogue\n",
    "taxi_stand\n",
    "tourist_attraction\n",
    "train_station\n",
    "transit_station\n",
    "zoo\"\"\"\n",
    "\n",
    "s = s.split('\\n')\n",
    "\n",
    "FOTEDAR = s[:12]\n",
    "SHANDILYA = s[12:23]\n",
    "SHETTY = s[23:34]\n",
    "DANGWAL = s[34:]"
   ]
  },
  {
   "cell_type": "markdown",
   "metadata": {},
   "source": [
    "<h4>Below is the function which will call the places API and get information as per the `place_types`.</h4>"
   ]
  },
  {
   "cell_type": "code",
   "execution_count": 11,
   "metadata": {
    "ExecuteTime": {
     "end_time": "2020-06-09T08:20:18.546813Z",
     "start_time": "2020-06-09T08:20:18.537812Z"
    }
   },
   "outputs": [],
   "source": [
    "API = \"https://maps.googleapis.com/maps/api/place/textsearch/json?\"\n",
    "QUERY_PLACE = 'aurangabad+'\n",
    "FIELDS = 'id,formatted_address,geometry,name,place_id,price_level,plus_code,types,rating,user_ratings_total,opening_hours,business_status'\n",
    "\n",
    "def get_data(API_KEY, place_types):\n",
    "    for t in place_types:\n",
    "        URL = API + 'query=' + QUERY_PLACE + t + '&key=' + API_KEY + \\\n",
    "        '&fields=' + FIELDS\n",
    "        resp = requests.get(URL)\n",
    "        if resp.status_code == 200:\n",
    "            JSONContent = resp.json()\n",
    "            content = json.dumps(JSONContent, indent = 4, sort_keys=True)\n",
    "            FILE_NAME = './data/' + QUERY_PLACE + t + '.json'\n",
    "            if not os.path.exists('data'):\n",
    "                os.makedirs('data')\n",
    "            with open(FILE_NAME, 'w') as o:\n",
    "                o.write(content)\n",
    "            print(f'Downloaded data: {FILE_NAME}')\n",
    "        else:\n",
    "            print(f'Problem with query: \\n {URL}')"
   ]
  },
  {
   "cell_type": "markdown",
   "metadata": {},
   "source": [
    "<h4>Store your API key below.</h4>"
   ]
  },
  {
   "cell_type": "code",
   "execution_count": null,
   "metadata": {},
   "outputs": [],
   "source": [
    "API_KEY = ''"
   ]
  },
  {
   "cell_type": "markdown",
   "metadata": {},
   "source": [
    "<h4>Call the function get_data provide it with API key and your name</h4>"
   ]
  },
  {
   "cell_type": "code",
   "execution_count": null,
   "metadata": {},
   "outputs": [],
   "source": [
    "get_data(API_KEY, YOUR_NAME_HERE)"
   ]
  },
  {
   "cell_type": "code",
   "execution_count": null,
   "metadata": {},
   "outputs": [],
   "source": []
  }
 ],
 "metadata": {
  "kernelspec": {
   "display_name": "Python 3",
   "language": "python",
   "name": "python3"
  },
  "language_info": {
   "codemirror_mode": {
    "name": "ipython",
    "version": 3
   },
   "file_extension": ".py",
   "mimetype": "text/x-python",
   "name": "python",
   "nbconvert_exporter": "python",
   "pygments_lexer": "ipython3",
   "version": "3.8.3"
  },
  "toc": {
   "base_numbering": 1,
   "nav_menu": {},
   "number_sections": true,
   "sideBar": true,
   "skip_h1_title": false,
   "title_cell": "Table of Contents",
   "title_sidebar": "Contents",
   "toc_cell": false,
   "toc_position": {},
   "toc_section_display": true,
   "toc_window_display": false
  },
  "varInspector": {
   "cols": {
    "lenName": 16,
    "lenType": 16,
    "lenVar": 40
   },
   "kernels_config": {
    "python": {
     "delete_cmd_postfix": "",
     "delete_cmd_prefix": "del ",
     "library": "var_list.py",
     "varRefreshCmd": "print(var_dic_list())"
    },
    "r": {
     "delete_cmd_postfix": ") ",
     "delete_cmd_prefix": "rm(",
     "library": "var_list.r",
     "varRefreshCmd": "cat(var_dic_list()) "
    }
   },
   "types_to_exclude": [
    "module",
    "function",
    "builtin_function_or_method",
    "instance",
    "_Feature"
   ],
   "window_display": false
  }
 },
 "nbformat": 4,
 "nbformat_minor": 4
}
